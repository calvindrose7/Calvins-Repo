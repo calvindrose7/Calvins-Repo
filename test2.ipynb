{
 "cells": [
  {
   "cell_type": "markdown",
   "id": "7e627c3b",
   "metadata": {},
   "source": [
    "# Hello World\n",
    "\n",
    "**This ia just a test file**\n",
    "h\n",
    "\n",
    "*Still testing*\n",
    "\n",
    "\n"
   ]
  },
  {
   "cell_type": "code",
   "execution_count": null,
   "id": "34eddb5b",
   "metadata": {},
   "outputs": [],
   "source": []
  }
 ],
 "metadata": {
  "language_info": {
   "name": "python"
  }
 },
 "nbformat": 4,
 "nbformat_minor": 5
}
